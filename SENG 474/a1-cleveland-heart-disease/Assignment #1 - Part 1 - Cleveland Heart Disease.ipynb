{
 "cells": [
  {
   "cell_type": "markdown",
   "metadata": {},
   "source": [
    "# <font color='blue'>SENG 474 - Assignment 1</font>\n",
    "\n",
    "\n",
    "Student Name:  Mek Obchey \\\n",
    "Student ID:    V00880355 \\\n",
    "Spring 2020\n"
   ]
  },
  {
   "cell_type": "code",
   "execution_count": 1,
   "metadata": {},
   "outputs": [],
   "source": [
    "import numpy as np\n",
    "import pandas as pd\n",
    "from matplotlib import pyplot as plt\n",
    "\n",
    "# This part is for preprocesssing the data\n",
    "# Read data, clean it, then split\n",
    "\n",
    "df = pd.read_csv('./processed.cleveland.data')\n",
    "df = df.replace('?',np.NaN)\n",
    "df.apply(pd.to_numeric)\n",
    "X = df.iloc[:,:-1].values\n",
    "y = df.iloc[:,-1].values\n",
    "\n",
    "# Group labels into two sets {0} = 0 and {1,2,3,4} = 1\n",
    "y[y > 0] = 1\n",
    "\n",
    "# replace missing values denoted '?' with the mean of its column \n",
    "from sklearn.impute import SimpleImputer\n",
    "imputer = SimpleImputer(missing_values=np.NaN, strategy='mean', verbose=0)\n",
    "imputer.fit(X[:])\n",
    "X[:,:] = imputer.transform(X[:])\n",
    "\n",
    "# splitting the dataset into the Training set and Test set by 20%.\n",
    "from sklearn.model_selection import train_test_split\n",
    "X_train, X_test, y_train, y_test = train_test_split(X, y, test_size = 0.20, random_state = 0)\n"
   ]
  },
  {
   "cell_type": "markdown",
   "metadata": {},
   "source": [
    "# <font color='blue'> Decision Tree (DT)</font>"
   ]
  },
  {
   "cell_type": "code",
   "execution_count": 51,
   "metadata": {},
   "outputs": [],
   "source": [
    "# Functions that will be used to calculate train vs test error, and to plot the result\n",
    "\n",
    "# Calculate train and test errors\n",
    "def calculate_errors(classifier, parameter, param_range):\n",
    "    train_errors = list()\n",
    "    test_errors = list()\n",
    "    for i in param_range:\n",
    "        classifier.set_params(parameter=i)\n",
    "        classifier.fit(X_train, y_train)\n",
    "        train_errors.append(classifier.score(X_train, y_train))\n",
    "        test_errors.append(classifier.score(X_test, y_test))\n",
    "    return (train_errors, test_errors)\n",
    "\n",
    "def graph_train_test_errors(train_errors, test_errors, param_range, xlabel, ylabel, title):\n",
    "    # Optimal Parameter #########################\n",
    "    i_param_optim = np.argmax(test_errors)\n",
    "    param_optim = param_range[i_param_optim]\n",
    "    print(\"Optimal parameter : %s\" % param_optim)\n",
    "    #############################################\n",
    "    lw = 2\n",
    "    plt.plot(param_range, train_errors, label=\"Train\",color=\"darkorange\", lw=lw)\n",
    "    plt.plot(param_range, test_errors, label=\"Test\",  color=\"navy\", lw=lw)\n",
    "    plt.vlines(param_optim, plt.ylim()[0], np.max(test_errors), color='k',\n",
    "               linewidth=3, label='Optimum on test')\n",
    "    plt.legend(loc='lower left')\n",
    "    plt.title(title)\n",
    "    plt.xlabel(xlabel)\n",
    "    plt.ylabel(ylabel)\n",
    "    plt.autoscale()\n",
    "    plt.show()\n"
   ]
  },
  {
   "cell_type": "markdown",
   "metadata": {},
   "source": [
    "### DT Test 1: Tuning max_leaf_nodes\n",
    "\n",
    "This part shows the effect of allowing more leaf nodes in decision trees of two split criteria (Gini vs Entropy)."
   ]
  },
  {
   "cell_type": "code",
   "execution_count": 50,
   "metadata": {},
   "outputs": [
    {
     "ename": "ValueError",
     "evalue": "Invalid parameter parameter for estimator DecisionTreeClassifier(ccp_alpha=0.0, class_weight=None, criterion='entropy',\n                       max_depth=None, max_features=None, max_leaf_nodes=None,\n                       min_impurity_decrease=0.0, min_impurity_split=None,\n                       min_samples_leaf=1, min_samples_split=2,\n                       min_weight_fraction_leaf=0.0, presort='deprecated',\n                       random_state=0, splitter='best'). Check the list of available parameters with `estimator.get_params().keys()`.",
     "output_type": "error",
     "traceback": [
      "\u001b[0;31m---------------------------------------------------------------------------\u001b[0m",
      "\u001b[0;31mValueError\u001b[0m                                Traceback (most recent call last)",
      "\u001b[0;32m<ipython-input-50-cc6fe82b9cc7>\u001b[0m in \u001b[0;36m<module>\u001b[0;34m\u001b[0m\n\u001b[1;32m     13\u001b[0m \u001b[0;34m\u001b[0m\u001b[0m\n\u001b[1;32m     14\u001b[0m models = {\n\u001b[0;32m---> 15\u001b[0;31m     \u001b[0;34m'entropy'\u001b[0m\u001b[0;34m:\u001b[0m\u001b[0mcalculate_errors\u001b[0m\u001b[0;34m(\u001b[0m\u001b[0mclassifier1\u001b[0m\u001b[0;34m,\u001b[0m \u001b[0mparam\u001b[0m\u001b[0;34m,\u001b[0m \u001b[0mparam_range\u001b[0m\u001b[0;34m)\u001b[0m\u001b[0;34m,\u001b[0m\u001b[0;34m\u001b[0m\u001b[0;34m\u001b[0m\u001b[0m\n\u001b[0m\u001b[1;32m     16\u001b[0m     \u001b[0;34m'gini'\u001b[0m\u001b[0;34m:\u001b[0m\u001b[0mcalculate_errors\u001b[0m\u001b[0;34m(\u001b[0m\u001b[0mclassifier2\u001b[0m\u001b[0;34m,\u001b[0m \u001b[0mparam\u001b[0m\u001b[0;34m,\u001b[0m \u001b[0mparam_range\u001b[0m\u001b[0;34m)\u001b[0m\u001b[0;34m\u001b[0m\u001b[0;34m\u001b[0m\u001b[0m\n\u001b[1;32m     17\u001b[0m } \n",
      "\u001b[0;32m<ipython-input-49-fca170a75e5c>\u001b[0m in \u001b[0;36mcalculate_errors\u001b[0;34m(classifier, parameter, param_range)\u001b[0m\n\u001b[1;32m      6\u001b[0m     \u001b[0mtest_errors\u001b[0m \u001b[0;34m=\u001b[0m \u001b[0mlist\u001b[0m\u001b[0;34m(\u001b[0m\u001b[0;34m)\u001b[0m\u001b[0;34m\u001b[0m\u001b[0;34m\u001b[0m\u001b[0m\n\u001b[1;32m      7\u001b[0m     \u001b[0;32mfor\u001b[0m \u001b[0mi\u001b[0m \u001b[0;32min\u001b[0m \u001b[0mparam_range\u001b[0m\u001b[0;34m:\u001b[0m\u001b[0;34m\u001b[0m\u001b[0;34m\u001b[0m\u001b[0m\n\u001b[0;32m----> 8\u001b[0;31m         \u001b[0mclassifier\u001b[0m\u001b[0;34m.\u001b[0m\u001b[0mset_params\u001b[0m\u001b[0;34m(\u001b[0m\u001b[0mparameter\u001b[0m\u001b[0;34m=\u001b[0m\u001b[0mi\u001b[0m\u001b[0;34m)\u001b[0m\u001b[0;34m\u001b[0m\u001b[0;34m\u001b[0m\u001b[0m\n\u001b[0m\u001b[1;32m      9\u001b[0m         \u001b[0mclassifier\u001b[0m\u001b[0;34m.\u001b[0m\u001b[0mfit\u001b[0m\u001b[0;34m(\u001b[0m\u001b[0mX_train\u001b[0m\u001b[0;34m,\u001b[0m \u001b[0my_train\u001b[0m\u001b[0;34m)\u001b[0m\u001b[0;34m\u001b[0m\u001b[0;34m\u001b[0m\u001b[0m\n\u001b[1;32m     10\u001b[0m         \u001b[0mtrain_errors\u001b[0m\u001b[0;34m.\u001b[0m\u001b[0mappend\u001b[0m\u001b[0;34m(\u001b[0m\u001b[0mclassifier\u001b[0m\u001b[0;34m.\u001b[0m\u001b[0mscore\u001b[0m\u001b[0;34m(\u001b[0m\u001b[0mX_train\u001b[0m\u001b[0;34m,\u001b[0m \u001b[0my_train\u001b[0m\u001b[0;34m)\u001b[0m\u001b[0;34m)\u001b[0m\u001b[0;34m\u001b[0m\u001b[0;34m\u001b[0m\u001b[0m\n",
      "\u001b[0;32m~/anaconda3/lib/python3.7/site-packages/sklearn/base.py\u001b[0m in \u001b[0;36mset_params\u001b[0;34m(self, **params)\u001b[0m\n\u001b[1;32m    234\u001b[0m                                  \u001b[0;34m'Check the list of available parameters '\u001b[0m\u001b[0;34m\u001b[0m\u001b[0;34m\u001b[0m\u001b[0m\n\u001b[1;32m    235\u001b[0m                                  \u001b[0;34m'with `estimator.get_params().keys()`.'\u001b[0m \u001b[0;34m%\u001b[0m\u001b[0;34m\u001b[0m\u001b[0;34m\u001b[0m\u001b[0m\n\u001b[0;32m--> 236\u001b[0;31m                                  (key, self))\n\u001b[0m\u001b[1;32m    237\u001b[0m \u001b[0;34m\u001b[0m\u001b[0m\n\u001b[1;32m    238\u001b[0m             \u001b[0;32mif\u001b[0m \u001b[0mdelim\u001b[0m\u001b[0;34m:\u001b[0m\u001b[0;34m\u001b[0m\u001b[0;34m\u001b[0m\u001b[0m\n",
      "\u001b[0;31mValueError\u001b[0m: Invalid parameter parameter for estimator DecisionTreeClassifier(ccp_alpha=0.0, class_weight=None, criterion='entropy',\n                       max_depth=None, max_features=None, max_leaf_nodes=None,\n                       min_impurity_decrease=0.0, min_impurity_split=None,\n                       min_samples_leaf=1, min_samples_split=2,\n                       min_weight_fraction_leaf=0.0, presort='deprecated',\n                       random_state=0, splitter='best'). Check the list of available parameters with `estimator.get_params().keys()`."
     ]
    }
   ],
   "source": [
    "from sklearn.tree import DecisionTreeClassifier\n",
    "\n",
    "classifier1 = DecisionTreeClassifier(criterion = 'entropy', random_state = 0)\n",
    "classifier2 = DecisionTreeClassifier(criterion = 'gini', random_state = 0)\n",
    "    \n",
    "# Parameter to test\n",
    "param = 'max_leaf_nodes'\n",
    "param_range = np.arange(2, 30, 1)\n",
    "\n",
    "xlabel = 'Number of ' + param.upper()\n",
    "ylabel = 'Performance'\n",
    "title = 'Performance Measure'\n",
    "\n",
    "models = {\n",
    "    'entropy':calculate_errors(classifier1, param, param_range),\n",
    "    'gini':calculate_errors(classifier2, param, param_range)\n",
    "} \n",
    "\n",
    "graph_train_test_errors(models['entropy'][0], models['entropy'][1], \n",
    "                        param_range, xlabel, ylabel, title + ' (Entropy)')\n",
    "graph_train_test_errors(models['gini'][0], models['gini'][1], \n",
    "                        param_range, xlabel, ylabel, title + ' (Gini)')\n",
    "\n",
    "models.clear()"
   ]
  },
  {
   "cell_type": "markdown",
   "metadata": {},
   "source": [
    "### DT Test 2: Tuning max_leaf_nodes with a new random_state\n",
    "\n",
    "Similiar to the above test, the only different is setting the random_state to 1 to see how \\\n",
    "this will affect the performance measure."
   ]
  },
  {
   "cell_type": "code",
   "execution_count": 33,
   "metadata": {},
   "outputs": [
    {
     "name": "stdout",
     "output_type": "stream",
     "text": [
      "Optimal parameter : 5\n"
     ]
    },
    {
     "data": {
      "image/png": "[encoded data removed]",
      "text/plain": [
       "<Figure size 432x288 with 1 Axes>"
      ]
     },
     "metadata": {
      "needs_background": "light"
     },
     "output_type": "display_data"
    },
    {
     "name": "stdout",
     "output_type": "stream",
     "text": [
      "Optimal parameter : 17\n"
     ]
    },
    {
     "data": {
      "image/png": "[encoded data removed]",
      "text/plain": [
       "<Figure size 432x288 with 1 Axes>"
      ]
     },
     "metadata": {
      "needs_background": "light"
     },
     "output_type": "display_data"
    }
   ],
   "source": [
    "from sklearn.tree import DecisionTreeClassifier\n",
    "\n",
    "classifier1 = DecisionTreeClassifier(criterion = 'entropy', random_state = 1)\n",
    "classifier2 = DecisionTreeClassifier(criterion = 'gini', random_state = 1)\n",
    "    \n",
    "# Parameter to test\n",
    "param = 'max_leaf_nodes'\n",
    "param_range = np.arange(2,30,1)\n",
    "\n",
    "xlabel = 'Number of ' + param.upper()\n",
    "ylabel = 'Performance'\n",
    "title = 'Performance Measure'\n",
    "\n",
    "models = {\n",
    "    'entropy':calculate_errors(classifier1, param, param_range),\n",
    "    'gini':calculate_errors(classifier2, param, param_range)\n",
    "} \n",
    "\n",
    "graph_train_test_errors(models['entropy'][0], models['entropy'][1], \n",
    "                        param_range, xlabel, ylabel, title + ' (Entropy)')\n",
    "graph_train_test_errors(models['gini'][0], models['gini'][1], \n",
    "                        param_range, xlabel, ylabel, title + ' (Gini)')\n",
    "\n",
    "models.clear()"
   ]
  },
  {
   "cell_type": "markdown",
   "metadata": {},
   "source": [
    "## DT Test 3: Tuning ccp_alpha (cost-complexity pruning parameter)\n",
    "\n",
    "The previous two tests were pruning the tree by adjusting the maximum leaf nodes allowed. \\\n",
    "This test uses Minimal cost-complexity pruning is algorithm provided by sklearn library"
   ]
  },
  {
   "cell_type": "code",
   "execution_count": 54,
   "metadata": {},
   "outputs": [
    {
     "ename": "ValueError",
     "evalue": "Invalid parameter parameter for estimator DecisionTreeClassifier(ccp_alpha=0.0, class_weight=None, criterion='entropy',\n                       max_depth=None, max_features=None, max_leaf_nodes=None,\n                       min_impurity_decrease=0.0, min_impurity_split=None,\n                       min_samples_leaf=1, min_samples_split=2,\n                       min_weight_fraction_leaf=0.0, presort='deprecated',\n                       random_state=0, splitter='best'). Check the list of available parameters with `estimator.get_params().keys()`.",
     "output_type": "error",
     "traceback": [
      "\u001b[0;31m---------------------------------------------------------------------------\u001b[0m",
      "\u001b[0;31mValueError\u001b[0m                                Traceback (most recent call last)",
      "\u001b[0;32m<ipython-input-54-6c3036e74177>\u001b[0m in \u001b[0;36m<module>\u001b[0;34m\u001b[0m\n\u001b[1;32m     13\u001b[0m \u001b[0;34m\u001b[0m\u001b[0m\n\u001b[1;32m     14\u001b[0m models = {\n\u001b[0;32m---> 15\u001b[0;31m     \u001b[0;34m'entropy'\u001b[0m\u001b[0;34m:\u001b[0m\u001b[0mcalculate_errors\u001b[0m\u001b[0;34m(\u001b[0m\u001b[0mclassifier1\u001b[0m\u001b[0;34m,\u001b[0m \u001b[0mparam\u001b[0m\u001b[0;34m,\u001b[0m \u001b[0mparam_range\u001b[0m\u001b[0;34m)\u001b[0m\u001b[0;34m,\u001b[0m\u001b[0;34m\u001b[0m\u001b[0;34m\u001b[0m\u001b[0m\n\u001b[0m\u001b[1;32m     16\u001b[0m     \u001b[0;34m'gini'\u001b[0m\u001b[0;34m:\u001b[0m\u001b[0mcalculate_errors\u001b[0m\u001b[0;34m(\u001b[0m\u001b[0mclassifier2\u001b[0m\u001b[0;34m,\u001b[0m \u001b[0mparam\u001b[0m\u001b[0;34m,\u001b[0m \u001b[0mparam_range\u001b[0m\u001b[0;34m)\u001b[0m\u001b[0;34m\u001b[0m\u001b[0;34m\u001b[0m\u001b[0m\n\u001b[1;32m     17\u001b[0m } \n",
      "\u001b[0;32m<ipython-input-51-fca170a75e5c>\u001b[0m in \u001b[0;36mcalculate_errors\u001b[0;34m(classifier, parameter, param_range)\u001b[0m\n\u001b[1;32m      6\u001b[0m     \u001b[0mtest_errors\u001b[0m \u001b[0;34m=\u001b[0m \u001b[0mlist\u001b[0m\u001b[0;34m(\u001b[0m\u001b[0;34m)\u001b[0m\u001b[0;34m\u001b[0m\u001b[0;34m\u001b[0m\u001b[0m\n\u001b[1;32m      7\u001b[0m     \u001b[0;32mfor\u001b[0m \u001b[0mi\u001b[0m \u001b[0;32min\u001b[0m \u001b[0mparam_range\u001b[0m\u001b[0;34m:\u001b[0m\u001b[0;34m\u001b[0m\u001b[0;34m\u001b[0m\u001b[0m\n\u001b[0;32m----> 8\u001b[0;31m         \u001b[0mclassifier\u001b[0m\u001b[0;34m.\u001b[0m\u001b[0mset_params\u001b[0m\u001b[0;34m(\u001b[0m\u001b[0mparameter\u001b[0m\u001b[0;34m=\u001b[0m\u001b[0mi\u001b[0m\u001b[0;34m)\u001b[0m\u001b[0;34m\u001b[0m\u001b[0;34m\u001b[0m\u001b[0m\n\u001b[0m\u001b[1;32m      9\u001b[0m         \u001b[0mclassifier\u001b[0m\u001b[0;34m.\u001b[0m\u001b[0mfit\u001b[0m\u001b[0;34m(\u001b[0m\u001b[0mX_train\u001b[0m\u001b[0;34m,\u001b[0m \u001b[0my_train\u001b[0m\u001b[0;34m)\u001b[0m\u001b[0;34m\u001b[0m\u001b[0;34m\u001b[0m\u001b[0m\n\u001b[1;32m     10\u001b[0m         \u001b[0mtrain_errors\u001b[0m\u001b[0;34m.\u001b[0m\u001b[0mappend\u001b[0m\u001b[0;34m(\u001b[0m\u001b[0mclassifier\u001b[0m\u001b[0;34m.\u001b[0m\u001b[0mscore\u001b[0m\u001b[0;34m(\u001b[0m\u001b[0mX_train\u001b[0m\u001b[0;34m,\u001b[0m \u001b[0my_train\u001b[0m\u001b[0;34m)\u001b[0m\u001b[0;34m)\u001b[0m\u001b[0;34m\u001b[0m\u001b[0;34m\u001b[0m\u001b[0m\n",
      "\u001b[0;32m~/anaconda3/lib/python3.7/site-packages/sklearn/base.py\u001b[0m in \u001b[0;36mset_params\u001b[0;34m(self, **params)\u001b[0m\n\u001b[1;32m    234\u001b[0m                                  \u001b[0;34m'Check the list of available parameters '\u001b[0m\u001b[0;34m\u001b[0m\u001b[0;34m\u001b[0m\u001b[0m\n\u001b[1;32m    235\u001b[0m                                  \u001b[0;34m'with `estimator.get_params().keys()`.'\u001b[0m \u001b[0;34m%\u001b[0m\u001b[0;34m\u001b[0m\u001b[0;34m\u001b[0m\u001b[0m\n\u001b[0;32m--> 236\u001b[0;31m                                  (key, self))\n\u001b[0m\u001b[1;32m    237\u001b[0m \u001b[0;34m\u001b[0m\u001b[0m\n\u001b[1;32m    238\u001b[0m             \u001b[0;32mif\u001b[0m \u001b[0mdelim\u001b[0m\u001b[0;34m:\u001b[0m\u001b[0;34m\u001b[0m\u001b[0;34m\u001b[0m\u001b[0m\n",
      "\u001b[0;31mValueError\u001b[0m: Invalid parameter parameter for estimator DecisionTreeClassifier(ccp_alpha=0.0, class_weight=None, criterion='entropy',\n                       max_depth=None, max_features=None, max_leaf_nodes=None,\n                       min_impurity_decrease=0.0, min_impurity_split=None,\n                       min_samples_leaf=1, min_samples_split=2,\n                       min_weight_fraction_leaf=0.0, presort='deprecated',\n                       random_state=0, splitter='best'). Check the list of available parameters with `estimator.get_params().keys()`."
     ]
    }
   ],
   "source": [
    "from sklearn.tree import DecisionTreeClassifier\n",
    "\n",
    "classifier1 = DecisionTreeClassifier(criterion = 'entropy', random_state = 0)\n",
    "classifier2 = DecisionTreeClassifier(criterion = 'gini', random_state = 0)\n",
    "    \n",
    "# Parameter to test\n",
    "param = 'ccp_alpha'\n",
    "param_range = np.arange(2, 30, 1)\n",
    "\n",
    "xlabel = 'Number of ' + param.upper()\n",
    "ylabel = 'Performance'\n",
    "title = 'Performance Measure'\n",
    "\n",
    "models = {\n",
    "    'entropy':calculate_errors(classifier1, param, param_range),\n",
    "    'gini':calculate_errors(classifier2, param, param_range)\n",
    "} \n",
    "\n",
    "graph_train_test_errors(models['entropy'][0], models['entropy'][1], \n",
    "                        param_range, xlabel, ylabel, title + ' (Entropy)')\n",
    "graph_train_test_errors(models['gini'][0], models['gini'][1], \n",
    "                        param_range, xlabel, ylabel, title + ' (Gini)')\n",
    "\n",
    "models.clear()"
   ]
  },
  {
   "cell_type": "code",
   "execution_count": null,
   "metadata": {},
   "outputs": [],
   "source": []
  },
  {
   "cell_type": "code",
   "execution_count": null,
   "metadata": {},
   "outputs": [],
   "source": []
  },
  {
   "cell_type": "code",
   "execution_count": null,
   "metadata": {},
   "outputs": [],
   "source": []
  },
  {
   "cell_type": "markdown",
   "metadata": {},
   "source": [
    "## References: \n",
    "https://scikit-learn.org\n",
    "\\\n",
    "https://matplotlib.org/tutorials/intermediate/legend_guide.html\n",
    "\\\n",
    "\\\n",
    "Machine Learning A-Z by Udemy: \n",
    "\\\n",
    "https://www.udemy.com/course/machinelearning/\n",
    "\\\n",
    "\\\n",
    "Ploting train error vs test error (by Alexandre Gramfort): \\\n",
    "https://scikit-learn.org/stable/auto_examples/model_selection/plot_train_error_vs_test_error.html"
   ]
  }
 ],
 "metadata": {
  "kernelspec": {
   "display_name": "Python 3",
   "language": "python",
   "name": "python3"
  },
  "language_info": {
   "codemirror_mode": {
    "name": "ipython",
    "version": 3
   },
   "file_extension": ".py",
   "mimetype": "text/x-python",
   "name": "python",
   "nbconvert_exporter": "python",
   "pygments_lexer": "ipython3",
   "version": "3.7.4"
  },
  "varInspector": {
   "cols": {
    "lenName": 16,
    "lenType": 16,
    "lenVar": 40
   },
   "kernels_config": {
    "python": {
     "delete_cmd_postfix": "",
     "delete_cmd_prefix": "del ",
     "library": "var_list.py",
     "varRefreshCmd": "print(var_dic_list())"
    },
    "r": {
     "delete_cmd_postfix": ") ",
     "delete_cmd_prefix": "rm(",
     "library": "var_list.r",
     "varRefreshCmd": "cat(var_dic_list()) "
    }
   },
   "types_to_exclude": [
    "module",
    "function",
    "builtin_function_or_method",
    "instance",
    "_Feature"
   ],
   "window_display": false
  }
 },
 "nbformat": 4,
 "nbformat_minor": 2
}
