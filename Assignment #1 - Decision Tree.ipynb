{
 "cells": [
  {
   "cell_type": "markdown",
   "metadata": {},
   "source": [
    "# <font color='blue'>SENG 474 - Assignment 1</font>\n",
    "\n",
    "\n",
    "Student Name:  Mek Obchey \\\n",
    "Student ID:    V00880355 \\\n",
    "Spring 2020\n"
   ]
  },
  {
   "cell_type": "code",
   "execution_count": 2,
   "metadata": {},
   "outputs": [],
   "source": [
    "import numpy as np\n",
    "import pandas as pd\n",
    "\n",
    "from sklearn.impute import SimpleImputer\n",
    "\n",
    "# import dataset\n",
    "df = pd.read_csv('./processed.cleveland.data')\n",
    "df = df.replace('?',np.NaN)\n",
    "df.apply(pd.to_numeric)\n",
    "X = df.iloc[:,:-1].values\n",
    "y = df.iloc[:,-1].values\n",
    "\n",
    "# Group labels into two sets {0} = 0 and {1,2,3,4} = 1\n",
    "y[y > 0] = 1\n",
    "\n",
    "# replace missing values denoted '?' with the mean of its column \n",
    "imputer = SimpleImputer(missing_values=np.NaN, strategy='mean', verbose=0)\n",
    "imputer.fit(X[:])\n",
    "X[:,:] = imputer.transform(X[:])\n",
    "\n",
    "# splitting the dataset into the Training set and Test set by 20%.\n",
    "from sklearn.model_selection import train_test_split\n",
    "X_train, X_test, y_train, y_test = train_test_split(X, y, test_size = 0.20, random_state = 0)\n",
    "\n",
    "# create a classifier\n",
    "from sklearn.tree import DecisionTreeClassifier\n",
    "from sklearn.metrics import classification_report\n",
    "\n",
    "\n"
   ]
  },
  {
   "cell_type": "code",
   "execution_count": 3,
   "metadata": {},
   "outputs": [
    {
     "name": "stdout",
     "output_type": "stream",
     "text": [
      "               precision    recall  f1-score   support\n",
      "\n",
      "      class 0       0.74      0.74      0.74        35\n",
      "class 1,2,3,4       0.65      0.65      0.65        26\n",
      "\n",
      "     accuracy                           0.70        61\n",
      "    macro avg       0.70      0.70      0.70        61\n",
      " weighted avg       0.70      0.70      0.70        61\n",
      "\n"
     ]
    }
   ],
   "source": [
    "classifier = DecisionTreeClassifier(criterion = 'entropy', random_state = 0)\n",
    "classifier.fit(X_train, y_train)\n",
    "target_names = ['class 0', 'class 1,2,3,4']\n",
    "y_pred = classifier.predict(X_test)\n",
    "print(classification_report(y_test, y_pred, target_names=target_names))\n",
    "\n",
    "\n",
    "#confusion matrix\n",
    "#Precision measures what fraction of our detections are actually\n",
    "#positive, and recall measures what fraction of the positives we actually detected.\n",
    "\n",
    "#The recall is the ratio of the relevant results returned by the search engine to the\n",
    "#total number of the relevant results that could have been returned.\n",
    "\n",
    "#Accuracy is defined as the ratio of correctly predicted examples by the total examples\n",
    "\n",
    "#The F1 score can be interpreted as a weighted average of the precision and recall, \n",
    "#where an F1 score reaches its best value at 1 and worst score at 0. The relative contribution \n",
    "#of precision and recall to the F1 score are equal."
   ]
  },
  {
   "cell_type": "code",
   "execution_count": 13,
   "metadata": {},
   "outputs": [
    {
     "data": {
      "image/png": "[encoded data removed]",
      "text/plain": [
       "<Figure size 432x288 with 1 Axes>"
      ]
     },
     "metadata": {
      "needs_background": "light"
     },
     "output_type": "display_data"
    }
   ],
   "source": [
    "#https://stackoverflow.com/questions/35097003/cross-validation-decision-trees-in-sklearn\n",
    "#Dimosthenis\n",
    "\n",
    "#classifier = DecisionTreeClassifier(criterion = 'entropy', random_state = 0, min_samples_split=20)\n",
    "#classifier.fit(X_train, y_train)\n",
    "from sklearn.model_selection import KFold, cross_val_score\n",
    "\n",
    "#KFold Cross Validation\n",
    "min_samples_split_1 = []\n",
    "for i in range(2,14):\n",
    "    classifier = DecisionTreeClassifier(criterion = 'entropy', random_state = 0, min_samples_split=i)\n",
    "    scores = cross_val_score(estimator=classifier, X=X_train, y=y_train, cv=5)\n",
    "    min_samples_split_1.append(scores.mean())\n",
    "\n",
    "min_samples_split_2 = []\n",
    "for i in range(2,14):\n",
    "    classifier = DecisionTreeClassifier(criterion = 'gini', random_state = 0, min_samples_split=i)\n",
    "    scores = cross_val_score(estimator=classifier, X=X_train, y=y_train, cv=5)\n",
    "    min_samples_split_2.append(scores.mean())\n",
    "\n",
    "    \n",
    "from matplotlib import pyplot as plt\n",
    "plt.title('Entropy vs Gini Sample Split Results')\n",
    "plt.xlabel('Minimum Sample Split')\n",
    "plt.ylabel('K5 Cross-Validation Score')\n",
    "X_grid = np.arange(2,14,1)\n",
    "X_grid = X_grid.reshape((len(X_grid), 1))\n",
    "line1 = plt.plot(X_grid, min_samples_split_1, label='Entropy')\n",
    "line2 = plt.plot(X_grid, min_samples_split_2, label='Gini')\n",
    "plt.legend(bbox_to_anchor=(1.05, 1), loc='upper left', borderaxespad=0.)\n",
    "plt.show()\n",
    "\n",
    "#y_pred = classifier.predict(X_test)\n",
    "# target_names = ['class 0', 'class 1,2,3,4']\n",
    "#print(classification_report(y_test, y_pred, target_names=target_names))"
   ]
  },
  {
   "cell_type": "code",
   "execution_count": null,
   "metadata": {},
   "outputs": [],
   "source": []
  },
  {
   "cell_type": "code",
   "execution_count": 199,
   "metadata": {},
   "outputs": [
    {
     "name": "stdout",
     "output_type": "stream",
     "text": [
      "               precision    recall  f1-score   support\n",
      "\n",
      "      class 0       0.78      0.83      0.81        35\n",
      "class 1,2,3,4       0.75      0.69      0.72        26\n",
      "\n",
      "     accuracy                           0.77        61\n",
      "    macro avg       0.77      0.76      0.76        61\n",
      " weighted avg       0.77      0.77      0.77        61\n",
      "\n"
     ]
    }
   ],
   "source": [
    "classifier = DecisionTreeClassifier(criterion = 'gini', random_state = 0, min_samples_split=20)\n",
    "classifier.fit(X_train, y_train)\n",
    "target_names = ['class 0', 'class 1,2,3,4']\n",
    "y_pred = classifier.predict(X_test)\n",
    "print(classification_report(y_test, y_pred, target_names=target_names))"
   ]
  },
  {
   "cell_type": "code",
   "execution_count": 210,
   "metadata": {},
   "outputs": [
    {
     "name": "stdout",
     "output_type": "stream",
     "text": [
      "0.79\t (+/-) 0.08\n"
     ]
    }
   ],
   "source": [
    "from sklearn.model_selection import KFold, cross_val_score\n",
    "\n",
    "# kf = KFold(n_splits=5)\n",
    "# kf.get_n_splits(X)\n",
    "\n",
    "scores = cross_val_score(estimator=classifier,X=X_train,y=y_train,cv=10)\n",
    "print(\"%.2f\\t (+/-) %.2f\" % (scores.mean(), scores.std()))\n"
   ]
  },
  {
   "cell_type": "code",
   "execution_count": null,
   "metadata": {},
   "outputs": [],
   "source": []
  },
  {
   "cell_type": "code",
   "execution_count": null,
   "metadata": {},
   "outputs": [],
   "source": []
  },
  {
   "cell_type": "code",
   "execution_count": null,
   "metadata": {},
   "outputs": [],
   "source": []
  },
  {
   "cell_type": "code",
   "execution_count": 274,
   "metadata": {},
   "outputs": [],
   "source": [
    "#for visualization only\n",
    "# from sklearn.tree import export_graphviz \n",
    "# from IPython.display import Image  \n",
    "# from sklearn import tree\n",
    "# import pydotplus\n",
    "\n",
    "# classifier = DecisionTreeClassifier(criterion = 'entropy', random_state = 1)\n",
    "# classifier.fit(X_train, y_train)\n",
    "# target_names = ['class 0', 'class 1,2,3,4']\n",
    "# y_pred = classifier.predict(X_test)\n",
    "\n",
    "#################################################################\n",
    "#post pruning by David Dale : https://stackoverflow.com/questions/49428469/pruning-decision-trees\n",
    "# from sklearn.tree._tree import TREE_LEAF\n",
    "# def prune_index(inner_tree, index, threshold):\n",
    "#     if inner_tree.value[index].min() < threshold:\n",
    "#         # turn node into a leaf by \"unlinking\" its children\n",
    "#         inner_tree.children_left[index] = TREE_LEAF\n",
    "#         inner_tree.children_right[index] = TREE_LEAF\n",
    "#     # if there are shildren, visit them as well\n",
    "#     if inner_tree.children_left[index] != TREE_LEAF:\n",
    "#         prune_index(inner_tree, inner_tree.children_left[index], threshold)\n",
    "#         prune_index(inner_tree, inner_tree.children_right[index], threshold)\n",
    "\n",
    "# print(sum(classifier.tree_.children_left < 0))\n",
    "# # start pruning from the root\n",
    "# prune_index(classifier.tree_, 0, 5)\n",
    "# sum(classifier.tree_.children_left < 0)\n",
    "#################################################################\n",
    "# dot_data = tree.export_graphviz(classifier, out_file=None,  \n",
    "#                 filled=True, rounded=True,\n",
    "#                 special_characters=True, feature_names=df.columns[:-1])\n",
    "# graph = pydotplus.graphviz.graph_from_dot_data(dot_data)\n",
    "# Image(graph.create_png())\n",
    "\n",
    "#samples = # of trained samples\n",
    "#value = class probability"
   ]
  },
  {
   "cell_type": "code",
   "execution_count": null,
   "metadata": {},
   "outputs": [],
   "source": []
  },
  {
   "cell_type": "code",
   "execution_count": null,
   "metadata": {},
   "outputs": [],
   "source": []
  },
  {
   "cell_type": "code",
   "execution_count": null,
   "metadata": {},
   "outputs": [],
   "source": []
  },
  {
   "cell_type": "code",
   "execution_count": null,
   "metadata": {},
   "outputs": [],
   "source": []
  },
  {
   "cell_type": "markdown",
   "metadata": {},
   "source": [
    "## References: \n",
    "https://scikit-learn.org \\\n",
    "Machine Learning A-Z by Udemy: https://www.udemy.com/course/machinelearning/ \\\n",
    "https://matplotlib.org/tutorials/intermediate/legend_guide.html"
   ]
  }
 ],
 "metadata": {
  "kernelspec": {
   "display_name": "Python 3",
   "language": "python",
   "name": "python3"
  },
  "language_info": {
   "codemirror_mode": {
    "name": "ipython",
    "version": 3
   },
   "file_extension": ".py",
   "mimetype": "text/x-python",
   "name": "python",
   "nbconvert_exporter": "python",
   "pygments_lexer": "ipython3",
   "version": "3.7.4"
  },
  "varInspector": {
   "cols": {
    "lenName": 16,
    "lenType": 16,
    "lenVar": 40
   },
   "kernels_config": {
    "python": {
     "delete_cmd_postfix": "",
     "delete_cmd_prefix": "del ",
     "library": "var_list.py",
     "varRefreshCmd": "print(var_dic_list())"
    },
    "r": {
     "delete_cmd_postfix": ") ",
     "delete_cmd_prefix": "rm(",
     "library": "var_list.r",
     "varRefreshCmd": "cat(var_dic_list()) "
    }
   },
   "types_to_exclude": [
    "module",
    "function",
    "builtin_function_or_method",
    "instance",
    "_Feature"
   ],
   "window_display": false
  }
 },
 "nbformat": 4,
 "nbformat_minor": 2
}
